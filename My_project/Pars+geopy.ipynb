{
 "cells": [
  {
   "cell_type": "markdown",
   "metadata": {},
   "source": [
    "# Пробник GeoPy"
   ]
  },
  {
   "cell_type": "markdown",
   "metadata": {},
   "source": [
    "## Импортируем библиотеку:"
   ]
  },
  {
   "cell_type": "code",
   "execution_count": 5,
   "metadata": {},
   "outputs": [],
   "source": [
    "import geopy\n",
    "\n",
    "import pickle as pk\n",
    "import pandas as pd\n",
    "\n",
    "import requests\n",
    "from bs4 import BeautifulSoup as BS\n",
    "\n",
    "import time"
   ]
  },
  {
   "cell_type": "markdown",
   "metadata": {},
   "source": [
    "## Работа с пиклом по достопримечательностям"
   ]
  },
  {
   "cell_type": "code",
   "execution_count": 40,
   "metadata": {},
   "outputs": [],
   "source": [
    "with open(\"./parser_data.pkl\", \"rb\") as file:\n",
    "    data = pd.read_pickle(file)"
   ]
  },
  {
   "cell_type": "code",
   "execution_count": 41,
   "metadata": {},
   "outputs": [
    {
     "data": {
      "text/html": [
       "<div>\n",
       "<style scoped>\n",
       "    .dataframe tbody tr th:only-of-type {\n",
       "        vertical-align: middle;\n",
       "    }\n",
       "\n",
       "    .dataframe tbody tr th {\n",
       "        vertical-align: top;\n",
       "    }\n",
       "\n",
       "    .dataframe thead th {\n",
       "        text-align: right;\n",
       "    }\n",
       "</style>\n",
       "<table border=\"1\" class=\"dataframe\">\n",
       "  <thead>\n",
       "    <tr style=\"text-align: right;\">\n",
       "      <th></th>\n",
       "      <th>Href</th>\n",
       "      <th>Title</th>\n",
       "      <th>Content</th>\n",
       "    </tr>\n",
       "  </thead>\n",
       "  <tbody>\n",
       "    <tr>\n",
       "      <th>0</th>\n",
       "      <td>https://wikiway.com/egypt/giza/egipetskie-pira...</td>\n",
       "      <td>Египетские пирамиды</td>\n",
       "      <td>Египетские пирамиды, расположенные недалеко от...</td>\n",
       "    </tr>\n",
       "    <tr>\n",
       "      <th>1</th>\n",
       "      <td>https://wikiway.com/italia/rim/kolizey/</td>\n",
       "      <td>Колизей</td>\n",
       "      <td>Колизей – один из самых узнаваемых архитектурн...</td>\n",
       "    </tr>\n",
       "    <tr>\n",
       "      <th>2</th>\n",
       "      <td>https://wikiway.com/russia/moskva/krasnaya-plo...</td>\n",
       "      <td>Красная площадь</td>\n",
       "      <td>Красная площадь – основной символ и наиболее и...</td>\n",
       "    </tr>\n",
       "    <tr>\n",
       "      <th>3</th>\n",
       "      <td>https://wikiway.com/izrail/mertvoe-more/</td>\n",
       "      <td>Мертвое море</td>\n",
       "      <td>Мертвое море — это уникальный подарок природы,...</td>\n",
       "    </tr>\n",
       "    <tr>\n",
       "      <th>4</th>\n",
       "      <td>https://wikiway.com/algeria/sakhara/</td>\n",
       "      <td>Сахара</td>\n",
       "      <td>Сахара — крупнейшая пустыня, расположенная в С...</td>\n",
       "    </tr>\n",
       "  </tbody>\n",
       "</table>\n",
       "</div>"
      ],
      "text/plain": [
       "                                                Href                Title  \\\n",
       "0  https://wikiway.com/egypt/giza/egipetskie-pira...  Египетские пирамиды   \n",
       "1            https://wikiway.com/italia/rim/kolizey/              Колизей   \n",
       "2  https://wikiway.com/russia/moskva/krasnaya-plo...      Красная площадь   \n",
       "3           https://wikiway.com/izrail/mertvoe-more/         Мертвое море   \n",
       "4               https://wikiway.com/algeria/sakhara/               Сахара   \n",
       "\n",
       "                                             Content  \n",
       "0  Египетские пирамиды, расположенные недалеко от...  \n",
       "1  Колизей – один из самых узнаваемых архитектурн...  \n",
       "2  Красная площадь – основной символ и наиболее и...  \n",
       "3  Мертвое море — это уникальный подарок природы,...  \n",
       "4  Сахара — крупнейшая пустыня, расположенная в С...  "
      ]
     },
     "execution_count": 41,
     "metadata": {},
     "output_type": "execute_result"
    }
   ],
   "source": [
    "data.head()"
   ]
  },
  {
   "cell_type": "code",
   "execution_count": 42,
   "metadata": {},
   "outputs": [],
   "source": [
    "# # Получаем массив строк [страна, <город>, достопримечательность]\n",
    "# address = []\n",
    "# for line in data.Href:\n",
    "#     line_ar = [i for i in line.split(\"/\")]\n",
    "    \n",
    "#     for i in range(len(line_ar)):\n",
    "        \n",
    "#         if \".com\" in line_ar[i]:\n",
    "#             new_address = []\n",
    "            \n",
    "#             for j in range(i+1, len(line_ar) - 1):\n",
    "#                 new_address.append(line_ar[j])\n",
    "            \n",
    "#             address.append(new_address)\n",
    "#             break            "
   ]
  },
  {
   "cell_type": "markdown",
   "metadata": {},
   "source": [
    "### делаем словарь и запихиваем его в пикл"
   ]
  },
  {
   "cell_type": "code",
   "execution_count": 43,
   "metadata": {},
   "outputs": [],
   "source": [
    "# # составление словаря {Страна : {\"Cities\" : [города], :\"Sight\" [достопримечательности (если нет города)]}}\n",
    "# address_dict = {}\n",
    "# for i in address:\n",
    "#     key = i[0]\n",
    "#     if key not in address_dict.keys():\n",
    "#         address_dict[key] = {\"Cities\":[],\"Sight\":[]}\n",
    "#     value = i[1]\n",
    "#     if len(i) == 3:\n",
    "#         if value not in address_dict[key][\"Cities\"]:\n",
    "#             address_dict[key][\"Cities\"].append(value)\n",
    "#     else:\n",
    "#         if value not in address_dict[key][\"Sight\"]:\n",
    "#             address_dict[key][\"Sight\"].append(value)"
   ]
  },
  {
   "cell_type": "code",
   "execution_count": 44,
   "metadata": {},
   "outputs": [],
   "source": [
    "# вид: {Страна : {\"Cities\" : [], :\"Sight\" []}}"
   ]
  },
  {
   "cell_type": "code",
   "execution_count": 45,
   "metadata": {},
   "outputs": [],
   "source": [
    "# # Изменение названий на те, что лежат в data.title\n",
    "# for key in address_dict.keys():\n",
    "#     for name_i in range(len(address_dict[key][\"Sight\"])):\n",
    "#         for line_i in data.index:\n",
    "#             if address_dict[key][\"Sight\"][name_i] in data.loc[line_i][\"Href\"]:\n",
    "#                 address_dict[key][\"Sight\"][name_i] = data.loc[line_i][\"Title\"]"
   ]
  },
  {
   "cell_type": "code",
   "execution_count": 46,
   "metadata": {},
   "outputs": [],
   "source": [
    "#address_dict"
   ]
  },
  {
   "cell_type": "code",
   "execution_count": 47,
   "metadata": {
    "scrolled": true
   },
   "outputs": [],
   "source": [
    "# # Перевод всех названий на официальные названия на английском с помощью WIKIpedia\n",
    "# for key in address_dict:\n",
    "#     for ind in range(len(address_dict[key]['Sight'])):\n",
    "#         url = \"https://ru.wikipedia.org/wiki/{}\".format(address_dict[key]['Sight'][ind].replace(\" \",\"_\"))\n",
    "#         x = BS(requests.get(url).text, \"html.parser\")\n",
    "#         x = x.find_all(\"div\", {\"class\": \"body\"})\n",
    "#         Href = \"\"\n",
    "#         for y in x:\n",
    "#             y = y.find_all(\"a\")\n",
    "#             for z in y:\n",
    "#                 if z.text.strip() != \"English\":\n",
    "#                     continue\n",
    "#                 else:\n",
    "#                     Href = z.get(\"href\")\n",
    "#                     break\n",
    "#         if Href == \"\":\n",
    "#             continue\n",
    "#         line = [i for i in Href.split(\"/\")]\n",
    "#         address_dict[key]['Sight'][ind] = line.pop().strip().replace(\"_\", \" \")"
   ]
  },
  {
   "cell_type": "code",
   "execution_count": 48,
   "metadata": {
    "scrolled": true
   },
   "outputs": [],
   "source": [
    "#address_dict"
   ]
  },
  {
   "cell_type": "code",
   "execution_count": 49,
   "metadata": {},
   "outputs": [],
   "source": [
    "# for key in address_dict.keys():\n",
    "#     x = address_dict[key]\n",
    "#     for i in x.keys():\n",
    "#         for j in range(len(x[i])):\n",
    "#             x[i][j] = str(x[i][j]).replace(\"%27\", \"'\")\n",
    "# x[i][j] = str(x[i][j]).replace(\"(disambiguation)\",\"\")\n",
    "# x[i][j] = str(x[i][j]).replace(\"Pripyat\", \"Pripyat town\").strip()"
   ]
  },
  {
   "cell_type": "code",
   "execution_count": 50,
   "metadata": {},
   "outputs": [],
   "source": [
    "# plk_dict = {}\n",
    "# for key in address_dict.keys():\n",
    "#     x = address_dict[key]\n",
    "#     for i in x.keys():\n",
    "#         for j in x[i]:\n",
    "#             print(j, type(j))"
   ]
  },
  {
   "cell_type": "code",
   "execution_count": 51,
   "metadata": {},
   "outputs": [],
   "source": [
    "# with open(\"./dict.pkl\", \"wb\") as file:\n",
    "#     pk.dump(address_dict, file)"
   ]
  },
  {
   "cell_type": "markdown",
   "metadata": {},
   "source": [
    "----"
   ]
  },
  {
   "cell_type": "code",
   "execution_count": 52,
   "metadata": {},
   "outputs": [],
   "source": [
    "# addr = []\n",
    "# for i in address:\n",
    "#     line = []\n",
    "#     line.append(i[0])\n",
    "#     if len(i) == 3:\n",
    "#         line.append(i[1])\n",
    "#     else:\n",
    "#         line.append(None)\n",
    "#     addr.append(line)\n",
    "    \n",
    "# data = data.join(pd.DataFrame(addr,columns=[\"Country\", \"City\"]))"
   ]
  },
  {
   "cell_type": "code",
   "execution_count": 62,
   "metadata": {},
   "outputs": [],
   "source": [
    "def translate(data_):\n",
    "    Off_name= []\n",
    "    for key in data_:\n",
    "        l = []\n",
    "\n",
    "        url = \"https://ru.wikipedia.org/wiki/{}\".format(key.strip().replace(\" \",\"_\"))\n",
    "    \n",
    "        x = BS(requests.get(url).text, \"html.parser\")\n",
    "        x = x.find_all(\"div\", {\"class\": \"body\"})\n",
    "    \n",
    "        Href = \"\"\n",
    "    \n",
    "        for y in x:\n",
    "            y = y.find_all(\"a\")\n",
    "            for z in y:\n",
    "                if z.text.strip() != \"English\":\n",
    "                    continue\n",
    "                else:\n",
    "                    Href = z.get(\"href\")\n",
    "                    break\n",
    "    \n",
    "        if Href == \"\":\n",
    "            n = \"\"\n",
    "        else:\n",
    "            line = [i for i in Href.split(\"/\")]\n",
    "            n = line.pop().strip().replace(\"_\", \" \")\n",
    "            n = str(n).replace(\"%27\", \"'\").replace(\"(disambiguation)\",\"\").strip()\n",
    "            n = n.replace(\"%C3%AD\", \"i\")\n",
    "        l = [key, n]\n",
    "        Off_name.append(l)\n",
    "    return Off_name"
   ]
  },
  {
   "cell_type": "code",
   "execution_count": 54,
   "metadata": {},
   "outputs": [],
   "source": [
    "# data = data.merge(pd.DataFrame(Off_name, columns = [\"Title\",\"Off_name\"]),suffixes=(\"\",\"\"),on=['Title'])"
   ]
  },
  {
   "cell_type": "code",
   "execution_count": 55,
   "metadata": {},
   "outputs": [],
   "source": [
    "# data = data[[\"Title\", \"Off_name\", \"Content\", \"Href\"]]"
   ]
  },
  {
   "cell_type": "code",
   "execution_count": 56,
   "metadata": {},
   "outputs": [],
   "source": [
    "# data.head()"
   ]
  },
  {
   "cell_type": "markdown",
   "metadata": {},
   "source": [
    "## продолжаем geopy"
   ]
  },
  {
   "cell_type": "markdown",
   "metadata": {},
   "source": [
    "### получаем координаты для каждой из достопримечательностей"
   ]
  },
  {
   "cell_type": "code",
   "execution_count": 17,
   "metadata": {},
   "outputs": [],
   "source": [
    "geo = geopy.geocoders.Yandex\n",
    "geolocator = geo(user_agent=\"Sight_addr\")"
   ]
  },
  {
   "cell_type": "code",
   "execution_count": 85,
   "metadata": {
    "scrolled": true
   },
   "outputs": [],
   "source": [
    "def lat_lon_addr(data_):\n",
    "    latitude_longitude = []\n",
    "    i = 0\n",
    "    wtf = []\n",
    "    for name in data_:\n",
    "        time.sleep(1)\n",
    "        \n",
    "        i += 1\n",
    "        print(i, name)\n",
    "    \n",
    "        try:\n",
    "            location = geolocator.geocode(name)\n",
    "        except:\n",
    "            wtf.append(name)\n",
    "            continue\n",
    "        \n",
    "        if location == None:\n",
    "            wtf.append(name)\n",
    "            continue\n",
    "    \n",
    "        line = [name, location.address, location.latitude, location.longitude]\n",
    "        latitude_longitude.append(line)\n",
    "    return {\"data_completed\": latitude_longitude, \"data_error\": wtf}"
   ]
  },
  {
   "cell_type": "code",
   "execution_count": 78,
   "metadata": {},
   "outputs": [],
   "source": [
    "data_tittle_off = data.Title"
   ]
  },
  {
   "cell_type": "code",
   "execution_count": 84,
   "metadata": {},
   "outputs": [],
   "source": [
    "data_tittle_off = translate(data_tittle_off)"
   ]
  },
  {
   "cell_type": "code",
   "execution_count": 93,
   "metadata": {},
   "outputs": [],
   "source": [
    "data_tittle_off_translate = []\n",
    "for i in data_tittle_off:\n",
    "    if i[1] != \"\":\n",
    "        data_tittle_off_translate.append(i[1])\n",
    "    else:\n",
    "        data_tittle_off_translate.append(i[0])"
   ]
  },
  {
   "cell_type": "code",
   "execution_count": 94,
   "metadata": {},
   "outputs": [
    {
     "data": {
      "text/plain": [
       "100"
      ]
     },
     "execution_count": 94,
     "metadata": {},
     "output_type": "execute_result"
    }
   ],
   "source": [
    "len(data_tittle_off_translate)"
   ]
  },
  {
   "cell_type": "code",
   "execution_count": 95,
   "metadata": {
    "scrolled": true
   },
   "outputs": [
    {
     "name": "stdout",
     "output_type": "stream",
     "text": [
      "1 Egyptian pyramids\n",
      "2 Colosseum\n",
      "3 Red Square\n",
      "4 Dead Sea\n",
      "5 Sahara\n",
      "6 Tibet\n",
      "7 Eiffel Tower\n",
      "8 Hollywood\n",
      "9 Canary Islands\n",
      "10 Manhattan\n",
      "11 Остров Крит\n",
      "12 Reichstag\n",
      "13 Peterhof Palace\n",
      "14 Диснейленд в Париже\n",
      "15 Louvre\n",
      "16 Moscow Kremlin\n",
      "17 Normandy\n",
      "18 Pamukkale\n",
      "19 Pripyat\n",
      "20 Provence\n",
      "21 Sagrada Familia\n",
      "22 Sunny Beach\n",
      "23 Статуя Свободы (Statue of Liberty)\n",
      "24 Taj Mahal\n",
      "25 Big Ben\n",
      "26 Great Wall of China\n",
      "27 Гренландия\n",
      "28 Mal%C3%A1 Strana\n",
      "29 Lake Baikal\n",
      "30 Notre-Dame de Paris\n",
      "31 Fort Boyard (fortification)\n",
      "32 Goa\n",
      "33 Mount Everest\n",
      "34 Machu Picchu\n",
      "35 Bali\n",
      "36 Saint Basil's Cathedral\n",
      "37 Cappadocia\n",
      "38 Niagara Falls\n",
      "39 Petra\n",
      "40 Western Wall\n",
      "41 Stonehenge\n",
      "42 Transylvania\n",
      "43 Московский государственный университет имени М.В. Ломоносова (МГУ)\n",
      "44 Sphinx\n",
      "45 Mount Elbrus\n",
      "46 Easter Island\n",
      "47 Palmyra\n",
      "48 Great Pyramid of Giza\n",
      "49 Poklonnaya Hill\n",
      "50 Bolshoi Theatre\n",
      "51 «Брестская крепость»\n",
      "52 Brooklyn\n",
      "53 Tretyakov Gallery\n",
      "54 Zanzibar Archipelago\n",
      "55 Josefov\n",
      "56 Moskva River\n",
      "57 Озеро Хевиз\n",
      "58 Santorini\n",
      "59 Leaning Tower of Pisa\n",
      "60 Dnieper\n",
      "61 Река Ли\n",
      "62 St. Peter's Basilica\n",
      "63 Scotland\n",
      "64 Victoria Falls\n",
      "65 Pearl Harbor\n",
      "66 Fifth Avenue\n",
      "67 Alaska\n",
      "68 Aral Sea\n",
      "69 Broadway\n",
      "70 Charles Bridge\n",
      "71 «Москва-Сити»\n",
      "72 Gorky Park\n",
      "73 Pushkin Museum\n",
      "74 Arbat Street\n",
      "75 Wall Street\n",
      "76 Sparrow Hills\n",
      "77 Winter Palace\n",
      "78 Izmaylovsky Park\n",
      "79 Optina Monastery\n",
      "80 Cathedral of Christ the Saviour\n",
      "81 Buckingham Palace\n",
      "82 Great Lakes\n",
      "83 Hawaiian Islands\n",
      "84 Grand Canyon\n",
      "85 Death Valley\n",
      "86 Champs-%C3%89lys%C3%A9es\n",
      "87 Neuschwanstein Castle\n",
      "88 French Riviera\n",
      "89 Mariana Trench\n",
      "90 Marfo-Mariinsky Convent\n",
      "91 Neskuchny Garden\n",
      "92 Иссык-куль\n",
      "93 Lake Ritsa\n",
      "94 Phuket Province\n",
      "95 Tenerife\n",
      "96 Остров Хайнань\n",
      "97 Burj Al Arab\n",
      "98 Manneken Pis\n",
      "99 Plitvice Lakes National Park\n",
      "100 Река Нил\n"
     ]
    }
   ],
   "source": [
    "data_dict = lat_lon_addr(data_tittle_off_translate)"
   ]
  },
  {
   "cell_type": "code",
   "execution_count": 96,
   "metadata": {},
   "outputs": [],
   "source": [
    "lla = data_dict[\"data_completed\"]\n",
    "wtf = data_dict[\"data_error\"]"
   ]
  },
  {
   "cell_type": "code",
   "execution_count": 98,
   "metadata": {},
   "outputs": [
    {
     "data": {
      "text/plain": [
       "['Leaning Tower of Pisa',\n",
       " 'Cathedral of Christ the Saviour',\n",
       " 'Neuschwanstein Castle',\n",
       " 'Phuket Province',\n",
       " 'Plitvice Lakes National Park']"
      ]
     },
     "execution_count": 98,
     "metadata": {},
     "output_type": "execute_result"
    }
   ],
   "source": [
    "wtf"
   ]
  },
  {
   "cell_type": "code",
   "execution_count": 99,
   "metadata": {},
   "outputs": [
    {
     "data": {
      "text/plain": [
       "[['Egyptian pyramids',\n",
       "  'комплекс пирамид Эль-Гиза, район Старый Каир, Каир, Египет',\n",
       "  29.975773,\n",
       "  31.129975],\n",
       " ['Colosseum', 'Колоссеум, Квинсленд, Австралия', -24.388286, 151.612192],\n",
       " ['Red Square', 'Красная площадь, Москва, Россия', 55.753564, 37.621085],\n",
       " ['Dead Sea', 'Мёртвое море', 31.534797, 35.490577],\n",
       " ['Sahara', 'Западная Сахара', 24.606218, -13.289631],\n",
       " ['Tibet', 'Тибетский автономный район, Китай', 31.518361, 88.408534],\n",
       " ['Eiffel Tower', 'Тауэр, Манстер, Ирландия', 51.925175, -8.607962],\n",
       " ['Hollywood',\n",
       "  'город Голливуд, Броуард-Каунти, штат Флорида, Соединённые Штаты Америки',\n",
       "  26.041504,\n",
       "  -80.192578],\n",
       " ['Canary Islands', 'Острова Кука', -21.240368, -159.779656],\n",
       " ['Manhattan', 'остров Манхэттен, Пекин, Китай', 39.809568, 116.278838],\n",
       " ['Остров Крит', 'остров Крит, Греция', 35.230528, 24.844921],\n",
       " ['Reichstag',\n",
       "  'Im Reichstag, Бохум, Нордрхайн-Вестфален, Германия',\n",
       "  51.409615,\n",
       "  7.159717],\n",
       " ['Peterhof Palace',\n",
       "  'Дворцовая площадь, Петергоф, Санкт-Петербург, Россия',\n",
       "  59.883738,\n",
       "  29.91239],\n",
       " ['Диснейленд в Париже',\n",
       "  'метро Парк Диснейленд, Диснеевская линия, Гонконг',\n",
       "  22.315514,\n",
       "  114.045258],\n",
       " ['Louvre', 'станция Лувр, Линия D, Франция', 49.049506, 2.502311],\n",
       " ['Moscow Kremlin',\n",
       "  'Московская улица, Казань, Республика Татарстан, Россия',\n",
       "  55.788884,\n",
       "  49.107923],\n",
       " ['Normandy', 'Норманди, Суррей-Каунти, Великобритания', 51.256996, -0.671482],\n",
       " ['Pamukkale', 'Памуккале, Денизли, Турция', 37.91612, 29.121684],\n",
       " ['Pripyat', 'город Припять, Киевская область, Украина', 51.405339, 30.058061],\n",
       " ['Provence', 'Прованс-Альпы-Лазурный Берег, Франция', 44.076507, 6.237928],\n",
       " ['Sagrada Familia', 'Саграда Фамилия, Курико, Чили', -34.997385, -71.379387],\n",
       " ['Sunny Beach',\n",
       "  'Рейнир-Бич, Сиэтл, Кинг-Каунти, Вашингтон, Соединённые Штаты Америки',\n",
       "  47.516386,\n",
       "  -122.257809],\n",
       " ['Статуя Свободы (Statue of Liberty)',\n",
       "  'посёлок городского типа Свободы, городской округ Пятигорск, Ставропольский край, Россия',\n",
       "  44.024773,\n",
       "  43.051464],\n",
       " ['Taj Mahal', 'Taj Mahal, Мехико, Мексика', 19.313949, -99.114207],\n",
       " ['Big Ben', 'Биг-Бен-Лейк, Онтарио, Канада', 48.336275, -84.543092],\n",
       " ['Great Wall of China', 'Китай', 32.278826, 102.110178],\n",
       " ['Гренландия', 'Гренландия', 72.23145, -40.967722],\n",
       " ['Mal%C3%A1 Strana',\n",
       "  'автономное сообщество Страна Басков, Испания',\n",
       "  42.964471,\n",
       "  -2.563172],\n",
       " ['Lake Baikal', 'озеро Байкал, Россия', 53.405214, 107.672995],\n",
       " ['Notre-Dame de Paris',\n",
       "  'Нотр-Дам, IV округ Парижа, Париж, Иль-де-Франс, Франция',\n",
       "  48.85297,\n",
       "  2.351197],\n",
       " ['Fort Boyard (fortification)',\n",
       "  'Rue de Fort Boyard, Марсийи, Округ Ла Рошель, Приморская Шаранта, Новая Аквитания, Франция',\n",
       "  46.230474,\n",
       "  -1.13839],\n",
       " ['Goa', 'штат Гоа, Индия', 15.348908, 74.101094],\n",
       " ['Mount Everest',\n",
       "  'Маунт-Гамбьер, Южная Австралия, Австралия',\n",
       "  -37.820488,\n",
       "  140.773892],\n",
       " ['Machu Picchu', 'Мачу-Пикчу, Куско, Перу', -13.16238, -72.544735],\n",
       " ['Bali', 'провинция Бали, Индонезия', -8.369326, 115.166023],\n",
       " [\"Saint Basil's Cathedral\",\n",
       "  'Катедрал-Лейкс, провинция Британская Колумбия, Канада',\n",
       "  49.064259,\n",
       "  -120.200676],\n",
       " ['Cappadocia', \"Каппадоча, Ль'Акуйла, Абруццо, Италия\", 42.00531, 13.280235],\n",
       " ['Niagara Falls',\n",
       "  'город Ниагара-Фолс, Онтарио, Канада',\n",
       "  43.090193,\n",
       "  -79.083887],\n",
       " ['Petra', 'Петра, Иордания', 30.328983, 35.44762],\n",
       " ['Western Wall',\n",
       "  'Уолл-Айленд, штат Западная Австралия, Австралия',\n",
       "  -16.369013,\n",
       "  123.375259],\n",
       " ['Stonehenge', 'Стонхендж, Саскачеван, Канада', 49.517998, -106.127489],\n",
       " ['Transylvania',\n",
       "  'Трансильвания-Каунти, Северная Каролина, Соединённые Штаты Америки',\n",
       "  35.226798,\n",
       "  -82.768884],\n",
       " ['Московский государственный университет имени М.В. Ломоносова (МГУ)',\n",
       "  'посёлок Московский, муниципальное образование Город Екатеринбург, Свердловская область, Россия',\n",
       "  56.820553,\n",
       "  60.496674],\n",
       " ['Sphinx', 'Сфинкс-Айлет, Квинсленд, Австралия', -21.524246, 150.151693],\n",
       " ['Mount Elbrus',\n",
       "  'Маунт-Гамбьер, Южная Австралия, Австралия',\n",
       "  -37.820488,\n",
       "  140.773892],\n",
       " ['Easter Island', 'Истер-Чикен-Лейк, Онтарио, Канада', 49.589508, -93.464172],\n",
       " ['Palmyra', 'Тадмор, мухафаза Хомс, Сирия', 34.558937, 38.275561],\n",
       " ['Great Pyramid of Giza',\n",
       "  'дорога Пирамида-Джосер, Эль-Гиза, Египет',\n",
       "  29.87069,\n",
       "  31.219879],\n",
       " ['Poklonnaya Hill', 'парк Победы, Москва, Россия', 55.730715, 37.504214],\n",
       " ['Bolshoi Theatre', 'остров Хэйсяцзы', 48.341031, 134.670235],\n",
       " ['«Брестская крепость»',\n",
       "  'Брестская крепость-герой, Ленинский район, Брест, Беларусь',\n",
       "  52.085603,\n",
       "  23.655606],\n",
       " ['Brooklyn', 'Бруклин, Нова-Скотия, Канада', 43.865398, -66.076488],\n",
       " ['Tretyakov Gallery',\n",
       "  'Галлери-Плейс-Стейшен, Yellow Line, Соединённые Штаты Америки',\n",
       "  38.898587,\n",
       "  -77.022199],\n",
       " ['Zanzibar Archipelago', 'город Занзибар, Танзания', -6.150954, 39.214328],\n",
       " ['Josefov',\n",
       "  'Йосефов, Соколов, Карловарский край, Чехия',\n",
       "  50.209096,\n",
       "  12.580591],\n",
       " ['Moskva River', 'река Москва, Россия', 55.709449, 37.04928],\n",
       " ['Озеро Хевиз', 'озеро Хевиз, Зала, Венгрия', 46.78696, 17.192928],\n",
       " ['Santorini', 'остров Санторини, Греция', 36.397468, 25.43595],\n",
       " ['Dnieper', 'река Днепр', 49.174662, 32.959475],\n",
       " ['Река Ли', 'река Ривер Ли, Лондон, Великобритания', 51.536363, -0.020922],\n",
       " [\"St. Peter's Basilica\",\n",
       "  'St. Peters, Metro Inns Newcastle, Англия, Великобритания',\n",
       "  54.911047,\n",
       "  -1.383801],\n",
       " ['Scotland', 'Шотландия, Великобритания', 56.879663, -4.589376],\n",
       " ['Victoria Falls', 'город Виктория-Фолс, Зимбабве', -17.930436, 25.833149],\n",
       " ['Pearl Harbor',\n",
       "  'Харбор-Вью, город Джексонвилл, штат Флорида, Соединённые Штаты Америки',\n",
       "  30.398492,\n",
       "  -81.716085],\n",
       " ['Fifth Avenue', 'Fifth Avenue, Сингапур, Сингапур', 1.328877, 103.795777],\n",
       " ['Alaska', 'Аляска, Соединённые Штаты Америки', 63.094449, -152.000381],\n",
       " ['Aral Sea', 'Западное Аральское море', 45.156641, 58.551283],\n",
       " ['Broadway',\n",
       "  'Broadway, Окленд, Окленд, Новая Зеландия',\n",
       "  -36.869476,\n",
       "  174.777659],\n",
       " ['Charles Bridge',\n",
       "  'Charles Bridge, Лонсестон, Тасмания, Австралия',\n",
       "  -41.430784,\n",
       "  147.133345],\n",
       " ['«Москва-Сити»',\n",
       "  'Московский международный деловой центр Москва-Сити, Пресненский район, Центральный административный округ, Москва, Россия',\n",
       "  55.74975,\n",
       "  37.542581],\n",
       " ['Gorky Park', 'парк Горка, Москва, Россия', 55.756346, 37.635952],\n",
       " ['Pushkin Museum', 'Пушкин, Санкт-Петербург, Россия', 59.722463, 30.416947],\n",
       " ['Arbat Street', 'улица Арбат, Москва, Россия', 55.749491, 37.591521],\n",
       " ['Wall Street', 'улица Валли, Таллин, Эстония', 59.435929, 24.749637],\n",
       " ['Sparrow Hills',\n",
       "  'природный заказник Воробьёвы горы, Москва, Россия',\n",
       "  55.711098,\n",
       "  37.548079],\n",
       " ['Winter Palace',\n",
       "  'сад Зимнего Дворца, Санкт-Петербург, Россия',\n",
       "  59.939627,\n",
       "  30.311574],\n",
       " ['Izmaylovsky Park',\n",
       "  'природно-исторический парк Измайлово, Москва, Россия',\n",
       "  55.780542,\n",
       "  37.799535],\n",
       " ['Optina Monastery',\n",
       "  'Ayios Kendeas Monastery, Акротири и Декелия',\n",
       "  35.062047,\n",
       "  33.851682],\n",
       " ['Buckingham Palace',\n",
       "  'Букингем Палас Гарденс, Лондон, Великобритания',\n",
       "  51.500837,\n",
       "  -0.146587],\n",
       " ['Great Lakes',\n",
       "  'Грэйт-Лейкс, Лейк-Каунти, Иллинойс, Соединённые Штаты Америки',\n",
       "  42.308193,\n",
       "  -87.855989],\n",
       " ['Hawaiian Islands', 'Острова Кука', -21.240368, -159.779656],\n",
       " ['Grand Canyon',\n",
       "  'поселок Большой Каньон, Коконино-Каунти, Аризона, Соединённые Штаты Америки',\n",
       "  36.046062,\n",
       "  -112.129178],\n",
       " ['Death Valley',\n",
       "  'Дет-Валли, Иньо-Каунти, Калифорния, Соединённые Штаты Америки',\n",
       "  36.463795,\n",
       "  -116.881284],\n",
       " ['Champs-%C3%89lys%C3%A9es',\n",
       "  'Chemin des Champs, Сен-Лис, Округ Мюре, Верхняя Гаронна, Окситания, Франция',\n",
       "  43.506075,\n",
       "  1.220667],\n",
       " ['French Riviera',\n",
       "  \"Ла Ривьера, Лабастид-д'Арманьяк, Округ Мон-де-Марсан, Ланд, Новая Аквитания, Франция\",\n",
       "  43.950815,\n",
       "  -0.12121],\n",
       " ['Mariana Trench', 'Северные Марианские Острова', 15.045753, 145.69171],\n",
       " ['Marfo-Mariinsky Convent',\n",
       "  'Лак-Конван, Квебек, Канада',\n",
       "  49.798266,\n",
       "  -69.455501],\n",
       " ['Neskuchny Garden', 'Нескучный сад, Москва, Россия', 55.71663, 37.587102],\n",
       " ['Иссык-куль',\n",
       "  'озеро Иссык-Куль, Иссык-Кульская область, Киргизия',\n",
       "  42.441242,\n",
       "  77.267044],\n",
       " ['Lake Ritsa', 'озеро Рица, Гудаутский район, Абхазия', 43.480124, 40.542038],\n",
       " ['Tenerife',\n",
       "  'остров Тенерифе, Санта Крус де Тенерифе, Канарские острова, Испания',\n",
       "  28.29052,\n",
       "  -16.556831],\n",
       " ['Остров Хайнань', 'провинция Хайнань, Китай', 19.184717, 109.718522],\n",
       " ['Burj Al Arab', 'Аль Бурж, Палестина', 31.437655, 34.914218],\n",
       " ['Manneken Pis', 'Пис, Канада', 56.303402, -119.161612],\n",
       " ['Река Нил', 'река Нил', 23.609574, 32.871117]]"
      ]
     },
     "execution_count": 99,
     "metadata": {},
     "output_type": "execute_result"
    }
   ],
   "source": [
    "lla"
   ]
  },
  {
   "cell_type": "code",
   "execution_count": 18,
   "metadata": {},
   "outputs": [
    {
     "name": "stdout",
     "output_type": "stream",
     "text": [
      "посёлок Московский, муниципальное образование Город Екатеринбург, Свердловская область, Россия\n"
     ]
    },
    {
     "data": {
      "text/plain": [
       "Location(посёлок Московский, муниципальное образование Город Екатеринбург, Свердловская область, Россия, (56.820553, 60.496674, 0.0))"
      ]
     },
     "execution_count": 18,
     "metadata": {},
     "output_type": "execute_result"
    }
   ],
   "source": [
    "location = geolocator.geocode(\"Московский государственный университет имени М.В. Ломоносова (МГУ)\")\n",
    "print(location)\n",
    "location"
   ]
  },
  {
   "cell_type": "code",
   "execution_count": 1,
   "metadata": {},
   "outputs": [],
   "source": [
    "class PrefixTree:\n",
    "    def __init__(self):\n",
    "        self.root = [{}]\n",
    "\n",
    "    def add(self, string, node_item=None, periodicity=1):\n",
    "        # добавить строку\n",
    "        wrk_dict = self.root\n",
    "\n",
    "        if self.check(string):\n",
    "            for i in string:\n",
    "                wrk_dict = wrk_dict[0][i]\n",
    "            wrk_dict[1] += 1\n",
    "\n",
    "        for i in string:\n",
    "            if i in wrk_dict[0]:\n",
    "                wrk_dict = wrk_dict[0][i]\n",
    "            else:\n",
    "                wrk_dict[0][i] = [{}]\n",
    "                wrk_dict = wrk_dict[0][i]\n",
    "\n",
    "        wrk_dict.append(periodicity)\n",
    "        wrk_dict.append(node_item)\n",
    "\n",
    "    def check(self, string):\n",
    "        # проверить наличие строки\n",
    "        wrk_dict = self.root\n",
    "        for i in string:\n",
    "            if i in wrk_dict[0]:\n",
    "                wrk_dict = wrk_dict[0][i]\n",
    "            else:\n",
    "                return False\n",
    "        if len(wrk_dict) != 1:\n",
    "            return True\n",
    "        return False\n",
    "\n",
    "    def check_part(self, string):\n",
    "        # проверить наличие строки как префикса\n",
    "        wrk_dict = self.root\n",
    "        for i in string:\n",
    "            if i in wrk_dict[0]:\n",
    "                wrk_dict = wrk_dict[0][i]\n",
    "            else:\n",
    "                return False\n",
    "        return True\n",
    "\n",
    "    def get_n_sag(self, string, n):\n",
    "        # TODO возвращает массив\n",
    "        top = []\n",
    "        wrk_dict = self.root\n",
    "        for i in string:\n",
    "            if i in wrk_dict[0]:\n",
    "                wrk_dict = wrk_dict[0][i]\n",
    "            else:\n",
    "                break\n",
    "\n",
    "        if len(wrk_dict) != 1:\n",
    "            top.append(string, wrk_dict[1], wrk_dict[2])\n",
    "\n",
    "        def rec(t, wrk_d, st):\n",
    "            for i in wrk_d[0].keys():\n",
    "                st += i\n",
    "                print(i, wrk_d[0].keys())\n",
    "                if len(wrk_dict[0][i]) == 3:\n",
    "                    t.append(st, wrk_d[1], wrk_d[2])\n",
    "                if len(wrk_d[0][i][0]) != 0:\n",
    "                    rec(t, wrk_d[0][i], st)\n",
    "\n",
    "        rec(top, wrk_dict, string)\n",
    "        return top.sort(key=lambda x: x[1], reverse=True)[:n]\n",
    "\n",
    "\n",
    "def init_prefix_tree(filename):\n",
    "    prefix_tree = PrefixTree()\n",
    "    ar_to_el = []\n",
    "\n",
    "    with open(\"./\"+filename, \"r\") as file:\n",
    "        for line in file:\n",
    "            l = [i for i in line.split(\"\\t\")]\n",
    "            ar_to_el.append(l)\n",
    "\n",
    "    for line in ar_to_el:\n",
    "        prefix_tree.add(line[0], line[1], line[2])\n",
    "\n",
    "    return prefix_tree\n",
    "\n",
    "\n",
    "def return_sudgest(string):\n",
    "    top = prefix_tree.get_n_sag(string, 10)\n",
    "    for i in range(len(top)):\n",
    "        top[i] = [top[i][0], top[i][2]]\n",
    "\n",
    "    if request.method == \"GET\":\n",
    "        return jsonify(top)\n",
    "\n",
    "\n",
    "def hello():\n",
    "    return \"Welcome on this server\\nPlease go to /get_sudgest/\"\n",
    "    # TODO должна возвращатьс инструкция по работе с сервером\n",
    "\n",
    "\n",
    "prefix_tree = init_prefix_tree(\"For_tree.txt\")\n"
   ]
  }
 ],
 "metadata": {
  "kernelspec": {
   "display_name": "Python 3",
   "language": "python",
   "name": "python3"
  },
  "language_info": {
   "codemirror_mode": {
    "name": "ipython",
    "version": 3
   },
   "file_extension": ".py",
   "mimetype": "text/x-python",
   "name": "python",
   "nbconvert_exporter": "python",
   "pygments_lexer": "ipython3",
   "version": "3.6.4"
  }
 },
 "nbformat": 4,
 "nbformat_minor": 2
}
