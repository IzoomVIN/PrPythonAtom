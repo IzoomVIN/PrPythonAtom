{
 "cells": [
  {
   "cell_type": "markdown",
   "metadata": {},
   "source": [
    "# Недельник 1\n",
    "\n",
    "Как было сказано на лекции, на текущей неделе вы получаете ежедневные задания. Система оценки следующая: в первый день(четверг) вы делаете первый pull-request в ветку homework_01. Потом каждый день делаете коммит, он будет автоматически привязывать к pull-request. Если задачка не сделана в течении 2-х дней она сгорает. (Можно четверг сделать в четверг и пятницу)"
   ]
  },
  {
   "cell_type": "markdown",
   "metadata": {},
   "source": [
    "# Четверг"
   ]
  },
  {
   "cell_type": "code",
   "execution_count": 13,
   "metadata": {},
   "outputs": [],
   "source": [
    "#TODO Сделайте калькулятор произвольных выражений, операции следующие: +, -, /, ^, *. скобок нет\n",
    "def calculate(input_str):\n",
    "    # Преобразует строку в отдельные элементы, а именно в числа(или числа в степени) и операнды\n",
    "    input_list = [i for i in input_str.split()]\n",
    "    # Преобразует числа в степени из строки в полноценное число\n",
    "    for i in range(len(input_list)):\n",
    "        if '^' in input_list[i]:\n",
    "            line = [int(j) for j in input_list[i].split('^')]\n",
    "            while len(line) != 1:\n",
    "                x = line.pop()\n",
    "                y = line.pop()**x\n",
    "                line.append(y)\n",
    "            input_list[i] = line[0]\n",
    "    # Прогон по операндам в порядке приоритета\n",
    "    i = 0\n",
    "    while i != (len(input_list) - 1):\n",
    "        if input_list[i] == '*' or input_list[i] == '/':\n",
    "            if input_list[i] == '*':\n",
    "                input_list[i-1] = float(input_list[i-1])*float(input_list[i+1])\n",
    "            else:\n",
    "                input_list[i-1] = float(input_list[i-1])/float(input_list[i+1])\n",
    "            del input_list[i+1]\n",
    "            del input_list[i]\n",
    "            i -= 1\n",
    "        else:\n",
    "            i += 1\n",
    "    i = 0\n",
    "    while len(input_list) != 1:\n",
    "        if input_list[i] == '-' or input_list[i] == '+':\n",
    "            if input_list[i] == '+':\n",
    "                input_list[i-1] = float(input_list[i-1])+float(input_list[i+1])\n",
    "            else:\n",
    "                input_list[i-1] = float(input_list[i-1])-float(input_list[i+1])\n",
    "            del input_list[i+1]\n",
    "            del input_list[i]\n",
    "            i -= 1\n",
    "        else:\n",
    "            i += 1\n",
    "\n",
    "    return input_list[0]"
   ]
  },
  {
   "cell_type": "code",
   "execution_count": 14,
   "metadata": {},
   "outputs": [],
   "source": [
    "assert calculate(\"2 + 2 * 2\") == 6.0\n",
    "assert calculate(\"345 / 5 * 21\") == 1449.0\n",
    "assert calculate(\"3^3 - 10 + 41 * 3\") == 140.0\n",
    "assert calculate(\"42 / 7 * 32\") == 192.0\n",
    "\n",
    "assert calculate('2^7 / 2^6 * 32 - 4') == 60.0\n",
    "assert calculate('2^2^2^2 / 20 / 100 - 0.768') == 32.0\n",
    "\n",
    "#TODO Дополнить еще 2-мя своими тестами"
   ]
  },
  {
   "cell_type": "markdown",
   "metadata": {},
   "source": [
    "# Пятница"
   ]
  },
  {
   "cell_type": "code",
   "execution_count": 18,
   "metadata": {},
   "outputs": [],
   "source": [
    "#TODO метод разворачивающий строку HE2LO -> HELLO (число означает сколько раз встречается буква)\n",
    "def transform_string(inp_string):\n",
    "    Number = {'0', '1', '2', '3', '4', '5', '6', '7', '8', '9'}\n",
    "    i = 0\n",
    "    Newline = ''\n",
    "    while i < len(inp_string):\n",
    "        if inp_string[i] in Number:\n",
    "            zstr = 0\n",
    "            while inp_string[i] in Number:\n",
    "                zstr = zstr*10 + int(inp_string[i])\n",
    "                i += 1\n",
    "            Newline += str(inp_string[i]*zstr)\n",
    "            i += 1\n",
    "        else:\n",
    "            Newline += inp_string[i]\n",
    "            i += 1\n",
    "    \n",
    "    return Newline\n"
   ]
  },
  {
   "cell_type": "code",
   "execution_count": 20,
   "metadata": {},
   "outputs": [],
   "source": [
    "assert transform_string(\"HE2LO\") == \"HELLO\"\n",
    "assert transform_string(\"HI\") == \"HI\"\n",
    "assert transform_string(\"пр12ивет\") == \"приииииииииииивет\"\n",
    "assert transform_string(\"2л3у78н65тик\") == 'ллуууннннннннннннннннннннннннннннннннннннннннннннннннннннннннннннннннннннннннннннннтттттттттттттттттттттттттттттттттттттттттттттттттттттттттттттттттик'\n",
    "\n",
    "assert transform_string('н2Л1о 3ул4ёт') == 'нЛЛо ууулёёёёт'\n",
    "assert transform_string('2т3е4с5т') == 'ттееессссттттт'\n",
    "#TODO Дописать 2 своих теста"
   ]
  },
  {
   "cell_type": "markdown",
   "metadata": {},
   "source": [
    "# Суббота"
   ]
  },
  {
   "cell_type": "code",
   "execution_count": 24,
   "metadata": {},
   "outputs": [],
   "source": [
    "#TODO метод выводящий статистику по строке, кол-во гласных, согласных, цифр, строчных букв, прописных букв\n",
    "def string_stat(inp_string):\n",
    "    Number = {'0', '1', '2', '3', '4', '5', '6', '7', '8', '9'}\n",
    "    Vowel = {'а','е','ё','и','о','у','ы','э','ю','я'}\n",
    "    Stat = {'vol':0, 'nvol':0, 'num':0, 'up':0, 'low':0}\n",
    "    for i in range(len(inp_string)):\n",
    "        x = inp_string[i]\n",
    "        if x == ' ':\n",
    "            continue\n",
    "        if x in Number:\n",
    "            Stat['num'] = Stat['num']+1\n",
    "            continue\n",
    "        if x.islower():\n",
    "            Stat['low'] = Stat['low']+1\n",
    "        else:\n",
    "            Stat['up'] = Stat['up']+1\n",
    "        if x == 'ь' or x == 'ъ':\n",
    "            continue\n",
    "        if x.lower() in Vowel:\n",
    "            Stat['vol'] = Stat['vol']+1\n",
    "        else:\n",
    "            Stat['nvol'] = Stat['nvol']+1\n",
    "    \n",
    "    return Stat['vol'], Stat['nvol'], Stat['num'], Stat['low'],Stat['up'] "
   ]
  },
  {
   "cell_type": "code",
   "execution_count": 25,
   "metadata": {},
   "outputs": [],
   "source": [
    "assert string_stat(\"Тевирп\") == (2, 4, 0, 5, 1)\n",
    "assert string_stat(\"КоРоВа4\") == (3, 3, 1, 3, 3)\n",
    "\n",
    "assert string_stat('НаШа РаШа 2 СЕЗОН') == (6, 7, 1, 4, 9)\n",
    "assert string_stat('0гг0нь а не ТеСт') == (3, 7, 2, 9, 2)\n",
    "#TODO 2 своих теста"
   ]
  },
  {
   "cell_type": "markdown",
   "metadata": {},
   "source": [
    "# Воскресенье - ВЫХОДНОЙ"
   ]
  },
  {
   "cell_type": "markdown",
   "metadata": {},
   "source": [
    "# Понедельник"
   ]
  },
  {
   "cell_type": "code",
   "execution_count": 14,
   "metadata": {},
   "outputs": [],
   "source": [
    "#TODO инвертируйте словарь из k - [v_1, v_2] в v_1 [k_1]\n",
    "# исполняющая функция (выполняющая переворот элемента словаря и перезапись в новый)\n",
    "def update_val(new_dict, value, key):\n",
    "    if value not in new_dict.keys():\n",
    "        new_dict[value] = key\n",
    "    elif type(new_dict[value]) == type(str()):\n",
    "        line = [new_dict[value],key]\n",
    "        new_dict[value] = line\n",
    "    else:\n",
    "            new_dict[value].append(key)\n",
    "            \n",
    "    return new_dict\n",
    "\n",
    "\n",
    "# функция, организующая управляемую рекурсию\n",
    "def up_array(new_dict, array, key):\n",
    "    for val in array:\n",
    "            if type(val) == type(str()):\n",
    "                new_dict = update_val(new_dict, val, key)\n",
    "            else:\n",
    "                up_array(new_dict, val, key)\n",
    "                \n",
    "    return new_dict\n",
    "\n",
    "\n",
    "# основная функция (вызываемая)\n",
    "def dict_inverter(input_dict):\n",
    "    new_dict = {}\n",
    "    for key in input_dict:\n",
    "        if type(input_dict[key]) == type(str()):\n",
    "            new_dict = update_val(new_dict, input_dict, key)\n",
    "        else:\n",
    "            new_dict = up_array(new_dict, input_dict[key], key)\n",
    "            \n",
    "    return new_dict"
   ]
  },
  {
   "cell_type": "code",
   "execution_count": 15,
   "metadata": {},
   "outputs": [],
   "source": [
    "assert dict_inverter({\"mango\" : [\"eatable\"], \"pillow\": [\"sleepable\"]}) == {\"eatable\": \"mango\", \"sleepable\": \"pillow\"}\n",
    "assert dict_inverter({\"mango\" : [\"eatable\", \"readable\"]}) == {\"readable\":\"mango\", \"eatable\":\"mango\"}\n",
    "assert dict_inverter({\"mango\" : [\"eatable\"], \"banana\": [\"eatable\"]}) == {\"eatable\": [\"mango\", \"banana\"]}\n",
    "\n",
    "#TODO Один свой тест\n",
    "assert dict_inverter({\"mango\" : [\"eatable\",['heatable','nono']], \"banana\": [\"eatable\",[['atomar','heatable'],'nono']]}) == {\"eatable\": [\"mango\", \"banana\"],'heatable':[\"mango\", \"banana\"],'nono':[\"mango\", \"banana\"],'atomar':'banana'}"
   ]
  },
  {
   "cell_type": "markdown",
   "metadata": {},
   "source": [
    "# Вторник"
   ]
  },
  {
   "cell_type": "code",
   "execution_count": 1,
   "metadata": {},
   "outputs": [],
   "source": [
    "#TODO вывести уникальные элементы массива\n",
    "def uniq_array(input_arr):\n",
    "    ar_of_el = []\n",
    "    for element in input_arr:\n",
    "        if element not in ar_of_el:\n",
    "            ar_of_el.append(element)\n",
    "    return ar_of_el"
   ]
  },
  {
   "cell_type": "code",
   "execution_count": 19,
   "metadata": {},
   "outputs": [],
   "source": [
    "def test_func(un,test):\n",
    "    TEST_COMP = True\n",
    "    i = 0\n",
    "    for one in test:\n",
    "        for two in un:\n",
    "            if one == two:\n",
    "                i += 1\n",
    "        if i != 1:\n",
    "            TEST_COMP = False\n",
    "        i = 0\n",
    "    return TEST_COMP \n",
    "\n",
    "\n",
    "assert test_func(uniq_array([0]),[0]) \n",
    "assert test_func(uniq_array([0, 1, 2, 3]),[0, 1, 2, 3])\n",
    "assert test_func(uniq_array([\"f\", \"t\", \"f\"]),['t', 'f'])\n",
    "assert test_func(uniq_array(['rt', 'rt']),['rt'])"
   ]
  }
 ],
 "metadata": {
  "kernelspec": {
   "display_name": "Python 3",
   "language": "python",
   "name": "python3"
  },
  "language_info": {
   "codemirror_mode": {
    "name": "ipython",
    "version": 3
   },
   "file_extension": ".py",
   "mimetype": "text/x-python",
   "name": "python",
   "nbconvert_exporter": "python",
   "pygments_lexer": "ipython3",
   "version": "3.6.4"
  }
 },
 "nbformat": 4,
 "nbformat_minor": 2
}
