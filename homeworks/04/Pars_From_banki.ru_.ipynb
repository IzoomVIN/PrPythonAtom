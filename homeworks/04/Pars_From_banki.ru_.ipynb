{
 "cells": [
  {
   "cell_type": "markdown",
   "metadata": {},
   "source": [
    "## Подключаем необходимые модули"
   ]
  },
  {
   "cell_type": "code",
   "execution_count": 1,
   "metadata": {},
   "outputs": [],
   "source": [
    "import requests\n",
    "import json\n",
    "from bs4 import BeautifulSoup"
   ]
  },
  {
   "cell_type": "markdown",
   "metadata": {},
   "source": [
    "## Берем разметку сайта в формате HTML"
   ]
  },
  {
   "cell_type": "code",
   "execution_count": 2,
   "metadata": {},
   "outputs": [
    {
     "name": "stdout",
     "output_type": "stream",
     "text": [
      "True\n"
     ]
    }
   ],
   "source": [
    "web_page = '''http://www.banki.ru/banks/ratings/'''\n",
    "r = requests.get(web_page)\n",
    "print(r.ok)"
   ]
  },
  {
   "cell_type": "markdown",
   "metadata": {},
   "source": [
    "## Преобразовываем в BS4 для удобства работы и извлечения данных"
   ]
  },
  {
   "cell_type": "code",
   "execution_count": 3,
   "metadata": {},
   "outputs": [],
   "source": [
    "data = BeautifulSoup(r.text, \"html.parser\")"
   ]
  },
  {
   "cell_type": "code",
   "execution_count": 5,
   "metadata": {
    "scrolled": true
   },
   "outputs": [],
   "source": [
    "#data"
   ]
  },
  {
   "cell_type": "markdown",
   "metadata": {},
   "source": [
    "## Собираем массив регионов для того, чтобы можно было спарсить отдельные таблицы для каждого региона."
   ]
  },
  {
   "cell_type": "code",
   "execution_count": 6,
   "metadata": {},
   "outputs": [],
   "source": [
    "data_region_all = data.findAll(\"script\", attrs={\"id\":\"region-popup-template\"})\n",
    "data_region_all = BeautifulSoup(data_region_all[0].text,\"html.parser\")\n",
    "data_region_all = data_region_all.findAll('a', attrs={\"class\":\"rating-parameter-list--item__link \"})\n",
    "#data_region_all"
   ]
  },
  {
   "cell_type": "code",
   "execution_count": 7,
   "metadata": {},
   "outputs": [],
   "source": [
    "# Реализация массива href для регионов\n",
    "data_region_href = {}\n",
    "for i in data_region_all:\n",
    "    data_region_href[i.text.strip()] = i['href']"
   ]
  },
  {
   "cell_type": "code",
   "execution_count": 8,
   "metadata": {},
   "outputs": [],
   "source": [
    "#Очистка параметров\n",
    "for key in data_region_href:\n",
    "    data_region_href[key] = data_region_href[key].replace(\"/banks/ratings/?\",\"\")"
   ]
  },
  {
   "cell_type": "code",
   "execution_count": 8,
   "metadata": {},
   "outputs": [],
   "source": [
    "#data_region_href"
   ]
  },
  {
   "cell_type": "markdown",
   "metadata": {},
   "source": [
    "## Собираем массив показателей для реализации парсинга по отдельным показателям"
   ]
  },
  {
   "cell_type": "code",
   "execution_count": 9,
   "metadata": {},
   "outputs": [],
   "source": [
    "data_indicator_all = data.findAll(\"script\", attrs={\"id\":\"indicator-popup-template\"})\n",
    "data_indicator_all = BeautifulSoup(data_indicator_all[0].text,\"html.parser\")\n",
    "data_indicator_all = data_indicator_all.findAll('a', attrs={\"class\":\"rating-parameter-list--item__link active\"})\n",
    "#data_indicator_all"
   ]
  },
  {
   "cell_type": "code",
   "execution_count": 10,
   "metadata": {},
   "outputs": [],
   "source": [
    "# Реализация массива href для регионов\n",
    "data_indicator_href = {}\n",
    "for i in data_indicator_all:\n",
    "    data_indicator_href[i.text.strip()] = i['href']"
   ]
  },
  {
   "cell_type": "code",
   "execution_count": 11,
   "metadata": {},
   "outputs": [],
   "source": [
    "#Очистка параметров\n",
    "for key in data_indicator_href:\n",
    "    data_indicator_href[key] = data_indicator_href[key].replace(\"/banks/ratings/?\",\"\")"
   ]
  },
  {
   "cell_type": "code",
   "execution_count": 12,
   "metadata": {},
   "outputs": [],
   "source": [
    "#data_indicator_href"
   ]
  },
  {
   "cell_type": "markdown",
   "metadata": {},
   "source": [
    "## Собираем всевозможные даты для будущего парсинга"
   ]
  },
  {
   "cell_type": "code",
   "execution_count": 13,
   "metadata": {},
   "outputs": [],
   "source": [
    "date = data.findAll(\"th\", attrs={\"class\":\"table-title font-normal\"})\n",
    "date_array = {}\n",
    "for i in date[0].find_all('option'):\n",
    "    date_array[i.text] = i[\"value\"]"
   ]
  },
  {
   "cell_type": "code",
   "execution_count": 14,
   "metadata": {},
   "outputs": [],
   "source": [
    "#date_array"
   ]
  },
  {
   "cell_type": "markdown",
   "metadata": {},
   "source": [
    "## Все предврительные данные собрали, теперь можно и парсить начать"
   ]
  },
  {
   "cell_type": "markdown",
   "metadata": {},
   "source": [
    "### введите следующие данные:"
   ]
  },
  {
   "cell_type": "code",
   "execution_count": 15,
   "metadata": {},
   "outputs": [
    {
     "data": {
      "text/plain": [
       "dict_keys(['Октябрь, 2018', 'Сентябрь, 2018', 'Август, 2018', 'Июль, 2018', 'Июнь, 2018', 'Май, 2018', 'Апрель, 2018', 'Март, 2018', 'Февраль, 2018', 'Январь, 2018', 'Декабрь, 2017', 'Ноябрь, 2017', 'Октябрь, 2017', 'Сентябрь, 2017', 'Август, 2017', 'Июль, 2017', 'Июнь, 2017', 'Май, 2017', 'Апрель, 2017', 'Март, 2017', 'Февраль, 2017', 'Январь, 2017', 'Декабрь, 2016', 'Ноябрь, 2016', 'Октябрь, 2016', 'Сентябрь, 2016', 'Август, 2016', 'Июль, 2016', 'Июнь, 2016', 'Май, 2016', 'Апрель, 2016', 'Март, 2016', 'Февраль, 2016', 'Январь, 2016', 'Декабрь, 2015', 'Ноябрь, 2015', 'Октябрь, 2015', 'Сентябрь, 2015', 'Август, 2015', 'Июль, 2015', 'Июнь, 2015', 'Май, 2015', 'Апрель, 2015', 'Март, 2015', 'Февраль, 2015', 'Январь, 2015', 'Декабрь, 2014', 'Ноябрь, 2014', 'Октябрь, 2014', 'Сентябрь, 2014', 'Август, 2014', 'Июль, 2014', 'Июнь, 2014', 'Май, 2014', 'Апрель, 2014', 'Март, 2014', 'Февраль, 2014', 'Январь, 2014', 'Декабрь, 2013', 'Ноябрь, 2013', 'Октябрь, 2013', 'Сентябрь, 2013', 'Август, 2013', 'Июль, 2013', 'Июнь, 2013', 'Май, 2013', 'Апрель, 2013', 'Март, 2013', 'Февраль, 2013', 'Январь, 2013', 'Декабрь, 2012', 'Ноябрь, 2012', 'Октябрь, 2012', 'Сентябрь, 2012', 'Август, 2012', 'Июль, 2012', 'Июнь, 2012', 'Май, 2012', 'Апрель, 2012', 'Март, 2012', 'Февраль, 2012', 'Январь, 2012', 'Декабрь, 2011', 'Ноябрь, 2011', 'Октябрь, 2011', 'Сентябрь, 2011', 'Август, 2011', 'Июль, 2011', 'Июнь, 2011', 'Май, 2011', 'Апрель, 2011', 'Март, 2011', 'Февраль, 2011', 'Январь, 2011', 'Декабрь, 2010', 'Ноябрь, 2010', 'Октябрь, 2010', 'Сентябрь, 2010', 'Август, 2010', 'Июль, 2010', 'Июнь, 2010', 'Май, 2010', 'Апрель, 2010', 'Март, 2010', 'Февраль, 2010', 'Январь, 2010', 'Декабрь, 2009', 'Ноябрь, 2009', 'Октябрь, 2009', 'Сентябрь, 2009', 'Август, 2009', 'Июль, 2009', 'Июнь, 2009', 'Май, 2009', 'Апрель, 2009', 'Март, 2009', 'Февраль, 2009', 'Январь, 2009', 'Декабрь, 2008', 'Ноябрь, 2008', 'Октябрь, 2008', 'Сентябрь, 2008', 'Август, 2008', 'Июль, 2008', 'Июнь, 2008', 'Май, 2008', 'Апрель, 2008', 'Март, 2008'])"
      ]
     },
     "execution_count": 15,
     "metadata": {},
     "output_type": "execute_result"
    }
   ],
   "source": [
    "date_array.keys()"
   ]
  },
  {
   "cell_type": "code",
   "execution_count": 16,
   "metadata": {},
   "outputs": [],
   "source": [
    "#С какой даты по какую нужны данные:\n",
    "date_from1 = \"Март, 2008\"\n",
    "date_to1 = \"Октябрь, 2018\"\n",
    "\n",
    "if date_from1 != \"\": date_from = date_array[date_from1]\n",
    "if date_to1 != \"\": date_to = date_array[date_to1]"
   ]
  },
  {
   "cell_type": "markdown",
   "metadata": {},
   "source": [
    "---"
   ]
  },
  {
   "cell_type": "code",
   "execution_count": 17,
   "metadata": {},
   "outputs": [
    {
     "data": {
      "text/plain": [
       "dict_keys(['Москва и обл.', 'Санкт-Петербург и обл.', 'Адыгея', 'Алтайский край', 'Амурская обл.', 'Астраханская обл.', 'Башкортостан', 'Белгородская обл.', 'Владимирская обл.', 'Волгоградская обл.', 'Вологодская обл.', 'Дагестан', 'Ивановская обл.', 'Иркутская обл.', 'Кабардино-Балкария', 'Калининградская обл.', 'Калужская обл.', 'Камчатская обл.', 'Карачаево-Черкесия', 'Карелия', 'Кемеровская обл.', 'Кировская обл.', 'Коми', 'Костромская обл.', 'Краснодарский край', 'Красноярский край', 'Курганская обл.', 'Курская обл.', 'Липецкая обл.', 'Марий Эл', 'Мордовия', 'Мурманская обл.', 'Нижегородская обл.', 'Новгородская обл.', 'Новосибирская обл.', 'Омская обл.', 'Оренбургская обл.', 'Пензенская обл.', 'Пермская обл.', 'Приморский край', 'Псковская обл.', 'Республика Алтай', 'Россия', 'Ростовская обл.', 'Рязанская обл.', 'Самарская обл.', 'Саратовская обл.', 'Саха (Якутия)', 'Сахалинская обл.', 'Свердловская обл.', 'Севастополь', 'Северная Осетия — Алания', 'Симферополь', 'Ставропольский край', 'Тамбовская обл.', 'Татарстан', 'Тверская обл.', 'Томская обл.', 'Тульская обл.', 'Тыва', 'Тюменская обл.', 'Удмуртия', 'Ульяновская обл.', 'Хакасия', 'Ханты-Мансийский АО — Югра', 'Центр', 'Челябинская обл.', 'Чувашия', 'Ярославская обл.'])"
      ]
     },
     "execution_count": 17,
     "metadata": {},
     "output_type": "execute_result"
    }
   ],
   "source": [
    "data_region_href.keys()"
   ]
  },
  {
   "cell_type": "code",
   "execution_count": 19,
   "metadata": {},
   "outputs": [],
   "source": [
    "#Выберите регион:\n",
    "region = \"\"\n",
    "\n",
    "if region != \"\": region = data_region_href[region]"
   ]
  },
  {
   "cell_type": "markdown",
   "metadata": {},
   "source": [
    "___"
   ]
  },
  {
   "cell_type": "code",
   "execution_count": 20,
   "metadata": {},
   "outputs": [
    {
     "data": {
      "text/plain": [
       "dict_keys(['Чистая прибыль', 'Капитал (по форме 123)', 'Капитал (по форме 134)', 'Кредитный портфель', 'Просроченная задолженность в кредитном портфеле', 'Вклады физических лиц', 'Вложения в ценные бумаги', 'Рентабельность активов-нетто', 'Рентабельность капитала', 'Уровень просроченной задолженности по кредитному портфелю', 'Уровень резервирования по кредитному портфелю', 'Уровень обеспечения кредитного портфеля залогом имущества', 'Валютный оборот к активам-нетто', 'Оборот по валютным операциям в тыс. рублей', 'Н1', 'Н2', 'Н3', 'Активы нетто', 'Высоколиквидные активы', 'Денежные средства в кассе', 'Денежные средства в кассе оборот', 'НОСТРО-счета', 'Кредиты физическим лицам', 'Сроком до 180 дней', 'Сроком от 181 дня до 1 года', 'Сроком от 1 года до 3 лет', 'Сроком более 3 лет', 'Овердрафты и прочие предоставленные средства', 'Просроченная задолженность', 'Выданные МБК', 'Размещенные МБК в ЦБ РФ', 'Размещенные МБК в ЦБ РФ оборот', 'Выданные МБК оборот всего', 'Кредиты предприятиям и организациям', 'Овердрафты', 'Вложения в акции', 'Вложения в облигации', 'Бумаги переданные в РЕПО', 'Вложения в векселя', 'Вложения в капиталы других организаций', 'Основные средства и нематериальные активы', 'Прочие активы', 'Вклады физических лиц оборот', 'Счета', 'Счета оборот', 'Сроком до 90 дней', 'Сроком до 90 дней оборот', 'Сроком от 91 до 180 дней', 'Сроком от 91 до 180 дней оборот', 'Сроком от 181 дня до 1 года оборот', 'Сроком от 1 года до 3 лет оборот', 'Сроком более 3 лет оборот', 'Средства предприятий и организаций', 'Средства предприятий и организаций оборот', 'Привлеченные МБК', 'Привлеченные МБК оборот', 'Привлеченные от ЦБ РФ', 'Привлеченные от ЦБ РФ оборот', 'Выпущенные облигации и векселя', 'Облигации', 'Векселя', 'ЛОРО-счета'])"
      ]
     },
     "execution_count": 20,
     "metadata": {},
     "output_type": "execute_result"
    }
   ],
   "source": [
    "data_indicator_href.keys()"
   ]
  },
  {
   "cell_type": "code",
   "execution_count": 21,
   "metadata": {},
   "outputs": [],
   "source": [
    "#Выберите показатель:\n",
    "indicator1 = \"Капитал (по форме 123)\"\n",
    "\n",
    "if indicator1 != \"\": indicator = data_indicator_href[indicator1]"
   ]
  },
  {
   "cell_type": "markdown",
   "metadata": {},
   "source": [
    "### да начнется магия"
   ]
  },
  {
   "cell_type": "markdown",
   "metadata": {},
   "source": [
    "#### соберем страничку для парсинга"
   ]
  },
  {
   "cell_type": "code",
   "execution_count": 22,
   "metadata": {},
   "outputs": [],
   "source": [
    "def web_page_for_parser(w_p, reg=\"\",ind=\"\", d_f=\"\", d_t=\"\"):\n",
    "    param_ar = []\n",
    "    if reg!=\"\": param_ar.append(reg)\n",
    "    if ind!=\"\": param_ar.append(ind)\n",
    "    if d_f!=\"\": param_ar.append((\"date2=\"+d_f))\n",
    "    if d_t!=\"\": param_ar.append((\"date1=\"+d_t))\n",
    "    ind_and = len(param_ar) - 1\n",
    "    \n",
    "    if len(param_ar)==0:\n",
    "        return w_p\n",
    "    \n",
    "    w_p = w_p + '?'\n",
    "    for par in param_ar:\n",
    "        w_p += par\n",
    "        if ind_and>0:\n",
    "            w_p += \"&\"\n",
    "            ind_and -=1\n",
    "    \n",
    "    return w_p\n"
   ]
  },
  {
   "cell_type": "code",
   "execution_count": 23,
   "metadata": {},
   "outputs": [
    {
     "data": {
      "text/plain": [
       "'http://www.banki.ru/banks/ratings/?PROPERTY_ID=850&date2=2008-03-01&date1=2018-10-01'"
      ]
     },
     "execution_count": 23,
     "metadata": {},
     "output_type": "execute_result"
    }
   ],
   "source": [
    "w_p_pars = web_page_for_parser(web_page,region,indicator,date_from,date_to)\n",
    "w_p_pars"
   ]
  },
  {
   "cell_type": "code",
   "execution_count": 24,
   "metadata": {},
   "outputs": [
    {
     "name": "stdout",
     "output_type": "stream",
     "text": [
      "True\n"
     ]
    }
   ],
   "source": [
    "pars = requests.get(w_p_pars)\n",
    "print(pars.ok)"
   ]
  },
  {
   "cell_type": "markdown",
   "metadata": {},
   "source": [
    "#### Ну вот и самое интересное - парсинг"
   ]
  },
  {
   "cell_type": "markdown",
   "metadata": {},
   "source": [
    "функция (костыль) для очисти первого столбца (места в рейтинге) от ненужных символов"
   ]
  },
  {
   "cell_type": "code",
   "execution_count": 25,
   "metadata": {},
   "outputs": [],
   "source": [
    "def subnum(lstr):\n",
    "    nstr = ''\n",
    "    if lstr.isdigit() == False:\n",
    "        for i in range(len(lstr)):\n",
    "            if lstr[i].isdigit() == True:\n",
    "                nstr += lstr[i]\n",
    "            else:\n",
    "                return nstr\n",
    "    \n",
    "    return lstr"
   ]
  },
  {
   "cell_type": "markdown",
   "metadata": {},
   "source": [
    "а вот и сам парсер"
   ]
  },
  {
   "cell_type": "code",
   "execution_count": 26,
   "metadata": {
    "scrolled": true
   },
   "outputs": [],
   "source": [
    "i=1  # счетчик страниц\n",
    "table = []  # итоговая таблица\n",
    "while(True):  # цикл обработки информации\n",
    "    FLAG = True  # наш флаг по которому проверяется смысл дальнейшей работы\n",
    "    w_p_pars = w_p_pars + \"&PAGEN_1={}\".format(i)  # добавляем параметр страницы для сайта\n",
    "    pars = requests.get(w_p_pars)  # получение html разметки в виде текста\n",
    "    data_pars = BeautifulSoup(pars.text, \"html.parser\")  # преобразование в соуп для удобства обработки\n",
    "    \n",
    "    for dat in data_pars.findAll(\"tr\", attrs={\"data-test\":\"rating-table-item\"}):  #цикл пробега по определенным элементам в разметке\n",
    "        line = []\n",
    "        line.append(subnum(dat.findAll('td')[0].text.strip()))  # Место\n",
    "        line.append(dat.findAll('td')[1].find('a').text.strip())  # Имя банка\n",
    "        line.append(dat.findAll('td')[1].findAll('div')[1].text.strip())  # Лицензия\n",
    "        line.append(dat.findAll('td')[2].text.strip())  # Данные за Data_to\n",
    "        line.append(dat.findAll('td')[3].text.strip())  # Данные за Data_from\n",
    "        # проверка (потому как страницы по другому не проверить, или я не нашел)\n",
    "        for j in table: # пробег по строкам нашей таблицы\n",
    "            if line == j:  #проверка спарсеной строки на повтор\n",
    "                FLAG = False\n",
    "                break\n",
    "        \n",
    "        # выход из внутреннего цикла по флагу\n",
    "        if FLAG == False:\n",
    "            break\n",
    "            \n",
    "        table.append(line)  #добавление строки в таблицу\n",
    "    \n",
    "    w_p_pars = w_p_pars.replace(\"&PAGEN_1={}\".format(i),'')  # убираем параметр страницы для сайта \n",
    "    \n",
    "    # выход из внешнего цикла по флагу \n",
    "    if FLAG == False: \n",
    "        break\n",
    "        \n",
    "    i+=1  # приращение счетчика"
   ]
  },
  {
   "cell_type": "code",
   "execution_count": 37,
   "metadata": {},
   "outputs": [],
   "source": [
    "#table"
   ]
  },
  {
   "cell_type": "markdown",
   "metadata": {},
   "source": [
    "#### Теперь преобразуем данные в Табличный вид"
   ]
  },
  {
   "cell_type": "code",
   "execution_count": 29,
   "metadata": {},
   "outputs": [],
   "source": [
    "import pandas as pd\n",
    "import numpy as np"
   ]
  },
  {
   "cell_type": "code",
   "execution_count": 31,
   "metadata": {},
   "outputs": [
    {
     "data": {
      "text/plain": [
       "'тыс. рублей'"
      ]
     },
     "execution_count": 31,
     "metadata": {},
     "output_type": "execute_result"
    }
   ],
   "source": [
    "column_3_4 = data_pars.findAll(\"th\", attrs={\"class\":\"table-title is-center\"})[0].text.split(\",\")[1].strip()\n",
    "column_3_4"
   ]
  },
  {
   "cell_type": "code",
   "execution_count": 33,
   "metadata": {},
   "outputs": [],
   "source": [
    "column_3 = indicator1 + \" за {}, \".format(date_to1) + column_3_4\n",
    "column_4 = indicator1 + \" за {}, \".format(date_from1) + column_3_4\n",
    "columns = [\"Место в рейтинге\", \"Название Банка\", \"Лицензия (Регион)\", column_3, column_4]"
   ]
  },
  {
   "cell_type": "code",
   "execution_count": 34,
   "metadata": {},
   "outputs": [],
   "source": [
    "table_pd = pd.DataFrame(table, columns=columns)"
   ]
  },
  {
   "cell_type": "code",
   "execution_count": 35,
   "metadata": {},
   "outputs": [
    {
     "data": {
      "text/html": [
       "<div>\n",
       "<style scoped>\n",
       "    .dataframe tbody tr th:only-of-type {\n",
       "        vertical-align: middle;\n",
       "    }\n",
       "\n",
       "    .dataframe tbody tr th {\n",
       "        vertical-align: top;\n",
       "    }\n",
       "\n",
       "    .dataframe thead th {\n",
       "        text-align: right;\n",
       "    }\n",
       "</style>\n",
       "<table border=\"1\" class=\"dataframe\">\n",
       "  <thead>\n",
       "    <tr style=\"text-align: right;\">\n",
       "      <th></th>\n",
       "      <th>Место в рейтинге</th>\n",
       "      <th>Название Банка</th>\n",
       "      <th>Лицензия (Регион)</th>\n",
       "      <th>Капитал (по форме 123) за Октябрь, 2018, тыс. рублей</th>\n",
       "      <th>Капитал (по форме 123) за Март, 2008, тыс. рублей</th>\n",
       "    </tr>\n",
       "  </thead>\n",
       "  <tbody>\n",
       "    <tr>\n",
       "      <th>0</th>\n",
       "      <td>1</td>\n",
       "      <td>Сбербанк России</td>\n",
       "      <td>лицензия № 1481, Москва и обл.</td>\n",
       "      <td>4 055 115 544</td>\n",
       "      <td>н/д</td>\n",
       "    </tr>\n",
       "    <tr>\n",
       "      <th>1</th>\n",
       "      <td>2</td>\n",
       "      <td>ВТБ</td>\n",
       "      <td>лицензия № 1000, Санкт-Петербург и обл.</td>\n",
       "      <td>1 449 163 257</td>\n",
       "      <td>н/д</td>\n",
       "    </tr>\n",
       "    <tr>\n",
       "      <th>2</th>\n",
       "      <td>3</td>\n",
       "      <td>Газпромбанк</td>\n",
       "      <td>лицензия № 354, Москва и обл.</td>\n",
       "      <td>735 244 449</td>\n",
       "      <td>н/д</td>\n",
       "    </tr>\n",
       "    <tr>\n",
       "      <th>3</th>\n",
       "      <td>4</td>\n",
       "      <td>Россельхозбанк</td>\n",
       "      <td>лицензия № 3349, Москва и обл.</td>\n",
       "      <td>427 835 382</td>\n",
       "      <td>н/д</td>\n",
       "    </tr>\n",
       "    <tr>\n",
       "      <th>4</th>\n",
       "      <td>5</td>\n",
       "      <td>Альфа-Банк</td>\n",
       "      <td>лицензия № 1326, Москва и обл.</td>\n",
       "      <td>425 511 598</td>\n",
       "      <td>н/д</td>\n",
       "    </tr>\n",
       "  </tbody>\n",
       "</table>\n",
       "</div>"
      ],
      "text/plain": [
       "  Место в рейтинге   Название Банка                        Лицензия (Регион)  \\\n",
       "0                1  Сбербанк России           лицензия № 1481, Москва и обл.   \n",
       "1                2              ВТБ  лицензия № 1000, Санкт-Петербург и обл.   \n",
       "2                3      Газпромбанк            лицензия № 354, Москва и обл.   \n",
       "3                4   Россельхозбанк           лицензия № 3349, Москва и обл.   \n",
       "4                5       Альфа-Банк           лицензия № 1326, Москва и обл.   \n",
       "\n",
       "  Капитал (по форме 123) за Октябрь, 2018, тыс. рублей  \\\n",
       "0                                      4 055 115 544     \n",
       "1                                      1 449 163 257     \n",
       "2                                        735 244 449     \n",
       "3                                        427 835 382     \n",
       "4                                        425 511 598     \n",
       "\n",
       "  Капитал (по форме 123) за Март, 2008, тыс. рублей  \n",
       "0                                               н/д  \n",
       "1                                               н/д  \n",
       "2                                               н/д  \n",
       "3                                               н/д  \n",
       "4                                               н/д  "
      ]
     },
     "execution_count": 35,
     "metadata": {},
     "output_type": "execute_result"
    }
   ],
   "source": [
    "table_pd.head()"
   ]
  }
 ],
 "metadata": {
  "kernelspec": {
   "display_name": "Python 3",
   "language": "python",
   "name": "python3"
  },
  "language_info": {
   "codemirror_mode": {
    "name": "ipython",
    "version": 3
   },
   "file_extension": ".py",
   "mimetype": "text/x-python",
   "name": "python",
   "nbconvert_exporter": "python",
   "pygments_lexer": "ipython3",
   "version": "3.6.4"
  }
 },
 "nbformat": 4,
 "nbformat_minor": 2
}
